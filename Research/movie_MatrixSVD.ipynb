{
    "cells": [
        {
            "cell_type": "markdown",
            "metadata": {},
            "source": [
                "# Movie Recommendation System using Matrix Factorization with Singular Value Decomposition"
            ]
        },
        {
            "cell_type": "markdown",
            "metadata": {},
            "source": [
                "With Matrix Factorization, we would be able to look at a user's historical rating to see what movies to recommend them."
            ]
        },
        {
            "cell_type": "code",
            "execution_count": 10,
            "metadata": {},
            "outputs": [
                {
                    "name": "stderr",
                    "output_type": "stream",
                    "text": [
                        "c:\\Users\\larry\\anaconda3\\Lib\\site-packages\\pandas\\core\\arrays\\masked.py:60: UserWarning: Pandas requires version '1.3.6' or newer of 'bottleneck' (version '1.3.5' currently installed).\n",
                        "  from pandas.core import (\n"
                    ]
                }
            ],
            "source": [
                "import pandas as pd \n",
                "import gdown\n",
                "from surprise import SVD\n",
                "from surprise import Dataset\n",
                "from surprise.model_selection import train_test_split\n",
                "from surprise import Reader\n",
                "from scipy.sparse import csr_matrix\n",
                "\n",
                "\n",
                "file_id = \"1TGyRuaqxVSOtyRk2CMJ0TROdPyuHEEZ2\"\n",
                "gdown.download(f\"https://drive.google.com/uc?id={file_id}\", \"ratings.csv\", quiet=False)\n",
                "\n",
                "movies = pd.read_csv(\"../BigMovieData/ml-32m/movies.csv\")\n",
                "ratings = pd.read_csv(\"ratings.csv\")\n"
            ]
        },
        {
            "cell_type": "code",
            "execution_count": null,
            "metadata": {},
            "outputs": [],
            "source": [
                "ratings.head()"
            ]
        },
        {
            "cell_type": "code",
            "execution_count": null,
            "metadata": {},
            "outputs": [],
            "source": [
                "user_codes = ratings[\"userId\"].astype(\"category\").cat.codes\n",
                "movie_codes = ratings[\"movieId\"].astype(\"category\").cat.codes\n",
                "\n",
                "sparse_matrix = csr_matrix((ratings[\"rating\"], (user_codes, movie_codes)))\n"
            ]
        },
        {
            "cell_type": "code",
            "execution_count": null,
            "metadata": {},
            "outputs": [],
            "source": [
                "final_dataset = pd.DataFrame.sparse.from_spmatrix(sparse_matrix)\n",
                "\n",
                "# Assign userId and movieId if needed\n",
                "final_dataset.index = ratings[\"userId\"].astype(\"category\").cat.categories\n",
                "final_dataset.columns = ratings[\"movieId\"].astype(\"category\").cat.categories\n"
            ]
        },
        {
            "cell_type": "code",
            "execution_count": null,
            "metadata": {},
            "outputs": [],
            "source": [
                "# final_dataset = ratings.pivot(index=\"userId\", columns=\"movieId\", values=\"rating\")\n",
                "# final_dataset.fillna(0,inplace = True)\n",
                "final_dataset.head()"
            ]
        },
        {
            "cell_type": "code",
            "execution_count": null,
            "metadata": {},
            "outputs": [],
            "source": [
                "reader = Reader(rating_scale=(0.5,5.0))\n",
                "data = Dataset.load_from_df(ratings[['userId', 'movieId', 'rating']], reader)\n",
                "trainset, testset = train_test_split(data, test_size=0.2)"
            ]
        },
        {
            "cell_type": "code",
            "execution_count": 7,
            "metadata": {},
            "outputs": [
                {
                    "name": "stdout",
                    "output_type": "stream",
                    "text": [
                        "RMSE: 0.8741\n",
                        "RMSE: 0.874079876653131\n"
                    ]
                }
            ],
            "source": [
                "model = SVD()\n",
                "model.fit(trainset)\n",
                "from surprise import accuracy\n",
                "predictions = model.test(testset)\n",
                "print(\"RMSE:\", accuracy.rmse(predictions))"
            ]
        },
        {
            "cell_type": "code",
            "execution_count": 11,
            "metadata": {},
            "outputs": [
                {
                    "name": "stdout",
                    "output_type": "stream",
                    "text": [
                        "('Mad Max: Fury Road (2015)', 4.776484860701145)\n",
                        "('Red Shoes, The (1948)', 4.775585909889986)\n",
                        "('Before Sunset (2004)', 4.769854627453665)\n",
                        "('Come and See (Idi i smotri) (1985)', 4.766503163298407)\n",
                        "('Alien (1979)', 4.762540655189273)\n",
                        "('Late Spring (Banshun) (1949)', 4.749646292999602)\n",
                        "('Repulsion (1965)', 4.71481543914906)\n",
                        "('Night of the Hunter, The (1955)', 4.697467682371876)\n",
                        "('Vertigo (1958)', 4.697272789675524)\n",
                        "('Fanny and Alexander (Fanny och Alexander) (1982)', 4.673463780460623)\n"
                    ]
                }
            ],
            "source": [
                "# Get all unique movie IDs\n",
                "all_movies = ratings['movieId'].unique()\n",
                "\n",
                "# Function to get top recommended movies for a user\n",
                "def recommend_movies(user_id, n_recommendations=10):\n",
                "    # Get movies the user has already rated\n",
                "    watched_movies = ratings[ratings['userId'] == user_id]['movieId'].tolist()\n",
                "    \n",
                "    # Predict ratings for movies the user hasn't watched\n",
                "    movie_predictions = [\n",
                "        (movie, model.predict(user_id, movie).est) for movie in all_movies if movie not in watched_movies\n",
                "    ]\n",
                "    \n",
                "    # Sort by predicted rating\n",
                "    movie_predictions.sort(key=lambda x: x[1], reverse=True)\n",
                "    \n",
                "    # Get top N recommendations\n",
                "    top_movies = movie_predictions[:n_recommendations]\n",
                "    \n",
                "    # Convert movie IDs to titles (assuming a movies.csv file exists)\n",
                "    movies_df = pd.read_csv('../BigMovieData/ml-32m/movies.csv')  # Contains columns: movieId, title\n",
                "    recommended_movies = [(movies_df[movies_df['movieId'] == movie_id]['title'].values[0], rating) \n",
                "                          for movie_id, rating in top_movies]\n",
                "    \n",
                "    return recommended_movies\n",
                "\n",
                "# Example: Recommend movies for user ID 1\n",
                "user_id = 1\n",
                "recommendations = recommend_movies(user_id)\n",
                "for movie in recommendations:\n",
                "    print(movie)\n"
            ]
        },
        {
            "cell_type": "code",
            "execution_count": null,
            "metadata": {},
            "outputs": [],
            "source": []
        }
    ],
    "metadata": {
        "kernelspec": {
            "display_name": "base",
            "language": "python",
            "name": "python3"
        },
        "language_info": {
            "codemirror_mode": {
                "name": "ipython",
                "version": 3
            },
            "file_extension": ".py",
            "mimetype": "text/x-python",
            "name": "python",
            "nbconvert_exporter": "python",
            "pygments_lexer": "ipython3",
            "version": "3.11.5"
        }
    },
    "nbformat": 4,
    "nbformat_minor": 2
}