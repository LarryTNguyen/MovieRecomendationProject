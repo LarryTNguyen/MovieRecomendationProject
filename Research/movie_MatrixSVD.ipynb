{
    "cells": [
        {
            "cell_type": "markdown",
            "metadata": {},
            "source": [
                "# Movie Recommendation System using Matrix Factorization with Singular Value Decomposition"
            ]
        },
        {
            "cell_type": "markdown",
            "metadata": {},
            "source": [
                "With Matrix Factorization, we would be able to look at a user's historical rating to see what movies to recommend them."
            ]
        },
        {
            "cell_type": "code",
            "execution_count": null,
            "metadata": {},
            "outputs": [],
            "source": [
                "import pandas as pd \n",
                "from surprise import SVD\n",
                "from surprise import Dataset\n",
                "from surprise.model_selection import train_test_split\n",
                "from surprise import Reader\n",
                "import os\n",
                "import boto3\n",
                "from dotenv import load_dotenv\n",
                "import pickle"
            ]
        },
        {
            "cell_type": "code",
            "execution_count": null,
            "metadata": {},
            "outputs": [],
            "source": [
                "load_dotenv()\n",
                "\n",
                "bucket_name = os.getenv(\"AWS_BUCKET_NAME\")\n",
                "ratings_file = os.getenv(\"AWS_RATINGS_FILE\")\n",
                "models_file = os.getenv(\"AWS_MODEL_FILE\")\n",
                "\n",
                "s3 = boto3.client(\n",
                "    's3',\n",
                "    aws_access_key_id=os.getenv(\"AWS_ACCESS_KEY\"),\n",
                "    aws_secret_access_key=os.getenv(\"AWS_SECRET\"),\n",
                "    region_name=os.getenv(\"AWS_REGION\")\n",
                ")\n",
                "\n",
                "s3.download_file(bucket_name, ratings_file, \"ratings.csv\")\n",
                "s3.download_file(bucket_name, models_file, models_file)\n",
                "ratings = pd.read_csv(\"ratings.csv\")\n",
                "movies = pd.read_csv(\"../BigMovieData/ml-32m/movies.csv\")\n",
                "ratings = pd.read_csv(\"ratings.csv\")"
            ]
        },
        {
            "cell_type": "code",
            "execution_count": null,
            "metadata": {},
            "outputs": [],
            "source": [
                "ratings.head()"
            ]
        },
        {
            "cell_type": "code",
            "execution_count": null,
            "metadata": {},
            "outputs": [],
            "source": [
                "reader = Reader(rating_scale=(0.5,5.0))\n",
                "data = Dataset.load_from_df(ratings[['userId', 'movieId', 'rating']], reader)\n",
                "trainset, testset = train_test_split(data, test_size=0.2)"
            ]
        },
        {
            "cell_type": "code",
            "execution_count": 7,
            "metadata": {},
            "outputs": [
                {
                    "name": "stdout",
                    "output_type": "stream",
                    "text": [
                        "RMSE: 0.8741\n",
                        "RMSE: 0.874079876653131\n"
                    ]
                }
            ],
            "source": [
                "model = SVD()\n",
                "model.fit(trainset)\n",
                "from surprise import accuracy\n",
                "predictions = model.test(testset)\n",
                "print(\"RMSE:\", accuracy.rmse(predictions))"
            ]
        },
        {
            "cell_type": "code",
            "execution_count": 5,
            "metadata": {},
            "outputs": [],
            "source": [
                "with open(\"recommender_model.pkl\", \"rb\") as f:\n",
                "    loaded_model = pickle.load(f)"
            ]
        },
        {
            "cell_type": "code",
            "execution_count": null,
            "metadata": {},
            "outputs": [
                {
                    "name": "stdout",
                    "output_type": "stream",
                    "text": [
                        "('Alien (1979)', 4.717917225345996)\n",
                        "('Nights of Cabiria (Notti di Cabiria, Le) (1957)', 4.710287942408444)\n",
                        "('Children of Paradise (Les enfants du paradis) (1945)', 4.615927607967822)\n",
                        "('Aguirre: The Wrath of God (Aguirre, der Zorn Gottes) (1972)', 4.614071627007398)\n",
                        "('Century of the Self, The (2002)', 4.5984657370733615)\n",
                        "('Sunset Blvd. (a.k.a. Sunset Boulevard) (1950)', 4.577376370657517)\n",
                        "('Seven Samurai (Shichinin no samurai) (1954)', 4.573015197668927)\n",
                        "('Night of the Hunter, The (1955)', 4.554318101883387)\n",
                        "('35 Up (1991)', 4.535665998224487)\n",
                        "('Dawn of the Dead (1978)', 4.5351399424992875)\n"
                    ]
                }
            ],
            "source": [
                "all_movies = ratings['movieId'].unique()\n",
                "def recommend_movies(user_id, n_recommendations=10):\n",
                "    watched_movies = ratings[ratings['userId'] == user_id]['movieId'].tolist()\n",
                "    movie_predictions = [\n",
                "        (movie, loaded_model.predict(user_id, movie).est) for movie in all_movies if movie not in watched_movies\n",
                "    ]\n",
                "    movie_predictions.sort(key=lambda x: x[1], reverse=True)\n",
                "    top_movies = movie_predictions[:n_recommendations]\n",
                "    movies_df = pd.read_csv('../BigMovieData/ml-32m/movies.csv')\n",
                "    recommended_movies = [(movies_df[movies_df['movieId'] == movie_id]['title'].values[0], rating) \n",
                "                          for movie_id, rating in top_movies]\n",
                "    \n",
                "    return recommended_movies\n",
                "\n",
                "user_id = 1\n",
                "recommendations = recommend_movies(user_id)\n",
                "for movie in recommendations:\n",
                "    print(movie)\n"
            ]
        },
        {
            "cell_type": "code",
            "execution_count": null,
            "metadata": {},
            "outputs": [],
            "source": []
        }
    ],
    "metadata": {
        "kernelspec": {
            "display_name": "base",
            "language": "python",
            "name": "python3"
        },
        "language_info": {
            "codemirror_mode": {
                "name": "ipython",
                "version": 3
            },
            "file_extension": ".py",
            "mimetype": "text/x-python",
            "name": "python",
            "nbconvert_exporter": "python",
            "pygments_lexer": "ipython3",
            "version": "3.11.5"
        }
    },
    "nbformat": 4,
    "nbformat_minor": 2
}
