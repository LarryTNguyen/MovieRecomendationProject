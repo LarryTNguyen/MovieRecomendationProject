{
    "cells": [
        {
            "cell_type": "markdown",
            "metadata": {},
            "source": [
                "# Movie Recommendation System using Matrix Factorization with Singular Value Decomposition"
            ]
        },
        {
            "cell_type": "markdown",
            "metadata": {},
            "source": [
                "With Matrix Factorization, we would be able to look at a user's historical rating to see what movies to recommend them."
            ]
        },
        {
            "cell_type": "code",
            "execution_count": 7,
            "metadata": {},
            "outputs": [],
            "source": [
                "import pandas as pd \n",
                "from surprise import SVD\n",
                "from surprise import Dataset\n",
                "from surprise.model_selection import train_test_split\n",
                "from surprise import Reader\n",
                "import os\n",
                "import boto3\n",
                "from dotenv import load_dotenv\n",
                "import pickle\n",
                "import re"
            ]
        },
        {
            "cell_type": "code",
            "execution_count": 2,
            "metadata": {},
            "outputs": [],
            "source": [
                "load_dotenv()\n",
                "\n",
                "bucket_name = os.getenv(\"AWS_BUCKET_NAME\")\n",
                "ratings_file = os.getenv(\"AWS_RATINGS_FILE\")\n",
                "models_file = os.getenv(\"AWS_MODEL_FILE\")\n",
                "\n",
                "s3 = boto3.client(\n",
                "    's3',\n",
                "    aws_access_key_id=os.getenv(\"AWS_ACCESS_KEY\"),\n",
                "    aws_secret_access_key=os.getenv(\"AWS_SECRET\"),\n",
                "    region_name=os.getenv(\"AWS_REGION\")\n",
                ")\n",
                "\n",
                "s3.download_file(bucket_name, ratings_file, \"ratings.csv\")\n",
                "s3.download_file(bucket_name, models_file, models_file)\n",
                "ratings = pd.read_csv(\"ratings.csv\")\n",
                "movies = pd.read_csv(\"../BigMovieData/ml-32m/movies.csv\")\n",
                "ratings = pd.read_csv(\"ratings.csv\")"
            ]
        },
        {
            "cell_type": "code",
            "execution_count": 3,
            "metadata": {},
            "outputs": [
                {
                    "data": {
                        "application/vnd.microsoft.datawrangler.viewer.v0+json": {
                            "columns": [
                                {
                                    "name": "index",
                                    "rawType": "int64",
                                    "type": "integer"
                                },
                                {
                                    "name": "userId",
                                    "rawType": "int64",
                                    "type": "integer"
                                },
                                {
                                    "name": "movieId",
                                    "rawType": "int64",
                                    "type": "integer"
                                },
                                {
                                    "name": "rating",
                                    "rawType": "float64",
                                    "type": "float"
                                },
                                {
                                    "name": "timestamp",
                                    "rawType": "int64",
                                    "type": "integer"
                                }
                            ],
                            "conversionMethod": "pd.DataFrame",
                            "ref": "e1416b43-b84d-4335-864e-43ed16a2ede6",
                            "rows": [
                                [
                                    "0",
                                    "1",
                                    "17",
                                    "4.0",
                                    "944249077"
                                ],
                                [
                                    "1",
                                    "1",
                                    "25",
                                    "1.0",
                                    "944250228"
                                ],
                                [
                                    "2",
                                    "1",
                                    "29",
                                    "2.0",
                                    "943230976"
                                ],
                                [
                                    "3",
                                    "1",
                                    "30",
                                    "5.0",
                                    "944249077"
                                ],
                                [
                                    "4",
                                    "1",
                                    "32",
                                    "5.0",
                                    "943228858"
                                ]
                            ],
                            "shape": {
                                "columns": 4,
                                "rows": 5
                            }
                        },
                        "text/html": [
                            "<div>\n",
                            "<style scoped>\n",
                            "    .dataframe tbody tr th:only-of-type {\n",
                            "        vertical-align: middle;\n",
                            "    }\n",
                            "\n",
                            "    .dataframe tbody tr th {\n",
                            "        vertical-align: top;\n",
                            "    }\n",
                            "\n",
                            "    .dataframe thead th {\n",
                            "        text-align: right;\n",
                            "    }\n",
                            "</style>\n",
                            "<table border=\"1\" class=\"dataframe\">\n",
                            "  <thead>\n",
                            "    <tr style=\"text-align: right;\">\n",
                            "      <th></th>\n",
                            "      <th>userId</th>\n",
                            "      <th>movieId</th>\n",
                            "      <th>rating</th>\n",
                            "      <th>timestamp</th>\n",
                            "    </tr>\n",
                            "  </thead>\n",
                            "  <tbody>\n",
                            "    <tr>\n",
                            "      <th>0</th>\n",
                            "      <td>1</td>\n",
                            "      <td>17</td>\n",
                            "      <td>4.0</td>\n",
                            "      <td>944249077</td>\n",
                            "    </tr>\n",
                            "    <tr>\n",
                            "      <th>1</th>\n",
                            "      <td>1</td>\n",
                            "      <td>25</td>\n",
                            "      <td>1.0</td>\n",
                            "      <td>944250228</td>\n",
                            "    </tr>\n",
                            "    <tr>\n",
                            "      <th>2</th>\n",
                            "      <td>1</td>\n",
                            "      <td>29</td>\n",
                            "      <td>2.0</td>\n",
                            "      <td>943230976</td>\n",
                            "    </tr>\n",
                            "    <tr>\n",
                            "      <th>3</th>\n",
                            "      <td>1</td>\n",
                            "      <td>30</td>\n",
                            "      <td>5.0</td>\n",
                            "      <td>944249077</td>\n",
                            "    </tr>\n",
                            "    <tr>\n",
                            "      <th>4</th>\n",
                            "      <td>1</td>\n",
                            "      <td>32</td>\n",
                            "      <td>5.0</td>\n",
                            "      <td>943228858</td>\n",
                            "    </tr>\n",
                            "  </tbody>\n",
                            "</table>\n",
                            "</div>"
                        ],
                        "text/plain": [
                            "   userId  movieId  rating  timestamp\n",
                            "0       1       17     4.0  944249077\n",
                            "1       1       25     1.0  944250228\n",
                            "2       1       29     2.0  943230976\n",
                            "3       1       30     5.0  944249077\n",
                            "4       1       32     5.0  943228858"
                        ]
                    },
                    "execution_count": 3,
                    "metadata": {},
                    "output_type": "execute_result"
                }
            ],
            "source": [
                "ratings.head()"
            ]
        },
        {
            "cell_type": "code",
            "execution_count": null,
            "metadata": {},
            "outputs": [],
            "source": [
                "reader = Reader(rating_scale=(0.5,5.0))\n",
                "data = Dataset.load_from_df(ratings[['userId', 'movieId', 'rating']], reader)\n",
                "trainset, testset = train_test_split(data, test_size=0.2)"
            ]
        },
        {
            "cell_type": "code",
            "execution_count": 7,
            "metadata": {},
            "outputs": [
                {
                    "name": "stdout",
                    "output_type": "stream",
                    "text": [
                        "RMSE: 0.8741\n",
                        "RMSE: 0.874079876653131\n"
                    ]
                }
            ],
            "source": [
                "model = SVD()\n",
                "model.fit(trainset)\n",
                "from surprise import accuracy\n",
                "predictions = model.test(testset)\n",
                "print(\"RMSE:\", accuracy.rmse(predictions))"
            ]
        },
        {
            "cell_type": "code",
            "execution_count": 22,
            "metadata": {},
            "outputs": [],
            "source": [
                "with open(\"recommender_model.pkl\", \"rb\") as f:\n",
                "    loaded_model = pickle.load(f)"
            ]
        },
        {
            "cell_type": "code",
            "execution_count": 24,
            "metadata": {},
            "outputs": [
                {
                    "name": "stderr",
                    "output_type": "stream",
                    "text": [
                        "C:\\Users\\larry\\AppData\\Local\\Temp\\ipykernel_16136\\1813605711.py:16: SettingWithCopyWarning: \n",
                        "A value is trying to be set on a copy of a slice from a DataFrame\n",
                        "\n",
                        "See the caveats in the documentation: https://pandas.pydata.org/pandas-docs/stable/user_guide/indexing.html#returning-a-view-versus-a-copy\n",
                        "  final_user_rating.rename(columns={\"Rating\": \"rating\"}, inplace=True)\n"
                    ]
                }
            ],
            "source": [
                "personal_ratings = pd.read_csv(\"../personal_letterboxd/ratings.csv\")\n",
                "personal_ratings[\"Year\"] = personal_ratings[\"Year\"].astype(str)\n",
                "personal_ratings['title'] = personal_ratings[\"Name\"] + \" (\" + personal_ratings['Year'] + \")\"\n",
                "personal_ratings.head()\n",
                "\n",
                "user_rating_merged = personal_ratings.merge(\n",
                "    movies,\n",
                "    left_on=[\"title\"],\n",
                "    right_on=[\"title\"],\n",
                "    how=\"inner\"\n",
                ")\n",
                "\n",
                "user_rating_merged['userId'] = 200949\n",
                "user_rating_merged.head()\n",
                "final_user_rating = user_rating_merged[['userId', 'movieId', 'Rating']]\n",
                "final_user_rating.rename(columns={\"Rating\": \"rating\"}, inplace=True)"
            ]
        },
        {
            "cell_type": "code",
            "execution_count": 20,
            "metadata": {},
            "outputs": [],
            "source": [
                "ratings = pd.concat([ratings, final_user_rating], ignore_index= True)"
            ]
        },
        {
            "cell_type": "code",
            "execution_count": 25,
            "metadata": {},
            "outputs": [
                {
                    "name": "stdout",
                    "output_type": "stream",
                    "text": [
                        "('Planet Earth II (2016)', 4.455477720171993)\n",
                        "('The Work of Director Chris Cunningham (2003)', 4.417926060626628)\n",
                        "('I Am So Proud of You (2008)', 4.416756684529041)\n",
                        "('Twelve Angry Men (1954)', 4.4016952499585384)\n",
                        "('Planet Earth (2006)', 4.389601579900872)\n",
                        "('Cosmos', 4.382901230440704)\n",
                        "('Band of Brothers (2001)', 4.373974033992065)\n",
                        "('The Roosevelts: An Intimate History (2014)', 4.373105950965507)\n",
                        "('Dominion (2018)', 4.360389776641251)\n",
                        "('Shawshank Redemption, The (1994)', 4.339912271934893)\n"
                    ]
                }
            ],
            "source": [
                "all_movies = ratings['movieId'].unique()\n",
                "def recommend_movies(user_id, n_recommendations=10):\n",
                "    watched_movies = ratings[ratings['userId'] == user_id]['movieId'].tolist()\n",
                "    movie_predictions = [\n",
                "        (movie, loaded_model.predict(user_id, movie).est) for movie in all_movies if movie not in watched_movies\n",
                "    ]\n",
                "    movie_predictions.sort(key=lambda x: x[1], reverse=True)\n",
                "    top_movies = movie_predictions[:n_recommendations]\n",
                "    movies_df = pd.read_csv('../BigMovieData/ml-32m/movies.csv')\n",
                "    recommended_movies = [(movies_df[movies_df['movieId'] == movie_id]['title'].values[0], rating) \n",
                "                          for movie_id, rating in top_movies]\n",
                "    \n",
                "    return recommended_movies\n",
                "\n",
                "user_id = 200949\n",
                "recommendations = recommend_movies(user_id)\n",
                "for movie in recommendations:\n",
                "    print(movie)\n"
            ]
        },
        {
            "cell_type": "code",
            "execution_count": null,
            "metadata": {},
            "outputs": [],
            "source": []
        }
    ],
    "metadata": {
        "kernelspec": {
            "display_name": "base",
            "language": "python",
            "name": "python3"
        },
        "language_info": {
            "codemirror_mode": {
                "name": "ipython",
                "version": 3
            },
            "file_extension": ".py",
            "mimetype": "text/x-python",
            "name": "python",
            "nbconvert_exporter": "python",
            "pygments_lexer": "ipython3",
            "version": "3.11.5"
        }
    },
    "nbformat": 4,
    "nbformat_minor": 2
}
